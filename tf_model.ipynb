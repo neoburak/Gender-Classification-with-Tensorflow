{
  "nbformat": 4,
  "nbformat_minor": 0,
  "metadata": {
    "colab": {
      "provenance": [],
      "collapsed_sections": []
    },
    "kernelspec": {
      "name": "python3",
      "display_name": "Python 3"
    },
    "language_info": {
      "name": "python"
    }
  },
  "cells": [
    {
      "cell_type": "code",
      "execution_count": null,
      "metadata": {
        "id": "YYvF74YRiLsn"
      },
      "outputs": [],
      "source": [
        "import tensorflow as tf\n",
        "import numpy as np\n",
        "from keras.preprocessing import image\n"
      ]
    },
    {
      "cell_type": "code",
      "source": [
        "model = tf.keras.models.load_model('......../model.h5')"
      ],
      "metadata": {
        "id": "5lxNPYf7ihlQ"
      },
      "execution_count": null,
      "outputs": []
    },
    {
      "cell_type": "code",
      "source": [
        "def get_result_with_path(image_path):\n",
        "    img = image.load_img(image_path, target_size=(150, 150))\n",
        "    x = image.img_to_array(img)\n",
        "    x /= 255\n",
        "    x = np.expand_dims(x, axis=0)\n",
        "\n",
        "    images = np.vstack([x])\n",
        "    classes = model.predict(images, batch_size=10)\n",
        "    #print(classes[0])\n",
        "    if classes[0]>0.5:\n",
        "        print(\"it\" + \" is a man\")\n",
        "        return img\n",
        "    else:\n",
        "        print(\"it\" + \" is a woman\")  \n",
        "        return img\n",
        "  "
      ],
      "metadata": {
        "id": "Pnk1ShpBjI0t"
      },
      "execution_count": null,
      "outputs": []
    },
    {
      "cell_type": "code",
      "source": [
        "image_path= \"\""
      ],
      "metadata": {
        "id": "d6ZNtXmkx939"
      },
      "execution_count": null,
      "outputs": []
    },
    {
      "cell_type": "code",
      "source": [
        "get_result_with_path(image_path)"
      ],
      "metadata": {
        "id": "-1Zl14iSm5A9"
      },
      "execution_count": null,
      "outputs": []
    }
  ]
}